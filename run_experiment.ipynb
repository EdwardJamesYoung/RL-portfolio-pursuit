{
 "cells": [
  {
   "cell_type": "markdown",
   "metadata": {},
   "source": [
    "# The experment notebook\n",
    "\n",
    "This notebook runs experiments and logs the results using mlflow. "
   ]
  },
  {
   "cell_type": "markdown",
   "metadata": {},
   "source": [
    "## Import relevant packages"
   ]
  },
  {
   "cell_type": "code",
   "execution_count": null,
   "metadata": {},
   "outputs": [],
   "source": [
    "import mlflow\n",
    "import numpy as np\n",
    "from typing import List, Dict\n",
    "import itertools\n",
    "import torch\n",
    "\n",
    "from market import Market\n",
    "import config\n",
    "import insurer"
   ]
  },
  {
   "cell_type": "markdown",
   "metadata": {},
   "source": [
    "## Find the current tracking URI"
   ]
  },
  {
   "cell_type": "code",
   "execution_count": null,
   "metadata": {},
   "outputs": [],
   "source": [
    "print(mlflow.get_tracking_uri())"
   ]
  },
  {
   "cell_type": "markdown",
   "metadata": {},
   "source": [
    "## Helper functions \n",
    "\n",
    "These functions generate a grid of parameters that we can iterate through if running a grid search or iterating over random seeds"
   ]
  },
  {
   "cell_type": "code",
   "execution_count": null,
   "metadata": {},
   "outputs": [],
   "source": [
    "# Define helper functions to define parameter grids\n",
    "\n",
    "def generate_grid(parameters: Dict[str, List]) -> List[Dict[str, float]]:\n",
    "    grid = []\n",
    "    keys = parameters.keys()\n",
    "    values = parameters.values()\n",
    "\n",
    "    for combination in itertools.product(*values):\n",
    "        grid.append(dict(zip(keys, combination)))\n",
    "\n",
    "    return grid\n",
    "\n",
    "def set_gpus(\n",
    "    parameter_grid: List[Dict[str, float]], num_gpus: int\n",
    ") -> List[Dict[str, float]]:\n",
    "    for ii, params in enumerate(parameter_grid):\n",
    "        params[\"gpu_id\"] = ii % num_gpus\n",
    "    return parameter_grid\n",
    "\n",
    "num_gpus = torch.cuda.device_count()"
   ]
  },
  {
   "cell_type": "markdown",
   "metadata": {},
   "source": [
    "Find the number of GPUs available"
   ]
  },
  {
   "cell_type": "code",
   "execution_count": null,
   "metadata": {},
   "outputs": [],
   "source": [
    "print(f\"Number of GPUs on device: {num_gpus}\")"
   ]
  },
  {
   "cell_type": "markdown",
   "metadata": {},
   "source": [
    "## Define the functions to run trials\n",
    "\n",
    "We define functions to both interact the market and insurers together for one epoch, and to run the trial. Running the trial consists of running a collection of burn-in epochs, followed by testing epochs. "
   ]
  },
  {
   "cell_type": "code",
   "execution_count": null,
   "metadata": {},
   "outputs": [],
   "source": [
    "# This function interacts the market and insurers for one epoch.\n",
    "def interact_one_epoch(market, insurer_list):\n",
    "    for time_step in range(config.ExperimentConfig.epoch_customers):\n",
    "        # Get the customers for this time step.\n",
    "        market.step()\n",
    "        customer_features, expected_costs = market.observation()\n",
    "\n",
    "        # Extract the number of customers for this time step\n",
    "        num_customers = len(customer_features)\n",
    "\n",
    "        # Create a np.ndarray to store the offers\n",
    "        offers = np.zeros((num_customers, config.MarketConfig.num_insurers))\n",
    "\n",
    "        # Iterate through insurers, getting the offers for each insurer:\n",
    "        for insurer_idx in range(config.MarketConfig.num_insurers):\n",
    "            offers[:, insurer_idx] = insurer_list[insurer_idx].make_offers(\n",
    "                customer_features, expected_costs[:, insurer_idx]\n",
    "            )\n",
    "\n",
    "        responses, step_profits = market.response(offers)\n",
    "        for insurer_idx in range(len(insurer_list)):\n",
    "            # profits[insurer_idx] += step_profits[insurer_idx]\n",
    "            insurer_list[insurer_idx].store_customers(\n",
    "                customer_features,\n",
    "                expected_costs[:, insurer_idx],\n",
    "                offers,\n",
    "                responses[:, insurer_idx],\n",
    "            )"
   ]
  },
  {
   "cell_type": "code",
   "execution_count": null,
   "metadata": {},
   "outputs": [],
   "source": [
    "def run_trial(parameters):\n",
    "    type_list = [\"RL\", \"Null\", \"Null\", \"Null\", \"Null\", \"Null\"]\n",
    "    assert (\n",
    "        len(type_list) == config.MarketConfig.num_insurers\n",
    "    ), f\"Number of insurers should be {config.MarketConfig.num_insurers}. Instead, got {len(type_list)} insurers\"\n",
    "\n",
    "    run_name = \"_\".join(\n",
    "        [f\"{hp}_{value}\" for hp, value in parameters.items() if hp not in [\"gpu_id\"]]\n",
    "    )\n",
    "\n",
    "    experiment_name = \"RL-results\"\n",
    "\n",
    "    mlflow.set_experiment(experiment_name)\n",
    "\n",
    "    with mlflow.start_run(run_name=run_name):\n",
    "        # Log each of the hyperparameters\n",
    "        for hp, value in parameters.items():\n",
    "            if hp not in [\"gpu_id\"]:\n",
    "                mlflow.log_param(hp, value)\n",
    "\n",
    "        # Create the market object\n",
    "        market = Market()\n",
    "\n",
    "        # Store the insurers and the normalised profits\n",
    "        insurer_list = []\n",
    "\n",
    "        # First, add the target insurer to the insurer_list\n",
    "        for insurer_index in range(config.MarketConfig.num_insurers):\n",
    "            insurer_type = type_list[insurer_index]\n",
    "\n",
    "            insurer_list.append(\n",
    "                insurer.Insurer(\n",
    "                    idx=insurer_index, insurer_type=insurer_type, parameters=parameters\n",
    "                )\n",
    "            )\n",
    "\n",
    "        # First we burn the insurers in.\n",
    "        for burn_in_epoch in range(config.ExperimentConfig.burn_in_epochs):\n",
    "            # Interact for one epoch\n",
    "            interact_one_epoch(market, insurer_list)\n",
    "            # Iterate through insurers\n",
    "            for insurer_idx in range(len(insurer_list)):\n",
    "                # Train the conversion, market, and bidding models\n",
    "                insurer_list[insurer_idx].train_auxiliary_models()\n",
    "                # Record all relevant variables\n",
    "                insurer_list[insurer_idx].record_variables()\n",
    "                # Reset all the relevant counters\n",
    "                insurer_list[insurer_idx].epoch_reset()\n",
    "        # Now we switch from burn-in mode to test-mode\n",
    "        for insurer_idx in range(len(insurer_list)):\n",
    "            insurer_list[insurer_idx].testing_mode()\n",
    "\n",
    "        # Next we test the trained models\n",
    "        for test_epochs in range(config.ExperimentConfig.test_epochs):\n",
    "            # Interact for one epoch\n",
    "            interact_one_epoch(market, insurer_list)\n",
    "            # Iterate through insurers\n",
    "            for insurer_idx in range(len(insurer_list)):\n",
    "                # Record all the relevant variables\n",
    "                insurer_list[insurer_idx].record_variables()\n",
    "                # Reset all the relevant counters.\n",
    "                insurer_list[insurer_idx].epoch_reset()\n"
   ]
  },
  {
   "cell_type": "markdown",
   "metadata": {},
   "source": [
    "## Run the trial\n",
    "\n",
    "We create a grid of parameters and then run a trial for each grid.\n",
    "\n",
    "**Note**: The random seed is set via the \"trial_number\" parameter. "
   ]
  },
  {
   "cell_type": "code",
   "execution_count": null,
   "metadata": {},
   "outputs": [],
   "source": [
    "parameters = {\"trial_number\":list(range(1))}\n",
    "\n",
    "grid = generate_grid(parameters)\n",
    "\n",
    "if num_gpus > 0:\n",
    "    grid = set_gpus(grid, num_gpus)"
   ]
  },
  {
   "cell_type": "code",
   "execution_count": null,
   "metadata": {},
   "outputs": [],
   "source": [
    "for param_dict in grid:\n",
    "    run_trial(param_dict)"
   ]
  }
 ],
 "metadata": {
  "kernelspec": {
   "display_name": "pub_env",
   "language": "python",
   "name": "python3"
  },
  "language_info": {
   "codemirror_mode": {
    "name": "ipython",
    "version": 3
   },
   "file_extension": ".py",
   "mimetype": "text/x-python",
   "name": "python",
   "nbconvert_exporter": "python",
   "pygments_lexer": "ipython3",
   "version": "3.12.2"
  }
 },
 "nbformat": 4,
 "nbformat_minor": 2
}
